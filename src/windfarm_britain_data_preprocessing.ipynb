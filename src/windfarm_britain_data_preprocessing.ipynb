{
 "cells": [
  {
   "cell_type": "code",
   "execution_count": 14,
   "metadata": {
    "collapsed": true
   },
   "outputs": [],
   "source": [
    "import pandas as pd\n",
    "import data_preprocessing as dp\n",
    "\n",
    "data = pd.read_csv('./raw_data/Turbine_Data_Kelmarsh_2_2020-01-01_-_2021-01-01_229.csv')\n",
    "\n",
    "# Setting the target variable to predict\n",
    "target_variable = \"Power (kW)\"\n",
    "\n",
    "# Splitting data into input and target data\n",
    "input_data = data.drop(columns=[\"Date and time\"])\n",
    "target_data = data[target_variable]\n",
    "\n",
    "# Min-Max normalizing the data\n",
    "input_data = (input_data-input_data.min())/(input_data.max()-input_data.min())\n",
    "target_data = (target_data - target_data.min()) / (target_data.max() - target_data.min())\n",
    "\n",
    "# Remove NaN values from data\n",
    "input_data = dp.remove_nan_columns(input_data, target_data)\n",
    "\n",
    "#print(\"Data : {} \\n\".format(input_data.head()))"
   ]
  },
  {
   "cell_type": "code",
   "execution_count": 15,
   "outputs": [
    {
     "name": "stdout",
     "output_type": "stream",
     "text": [
      "Top features based on time lag correlation:\n",
      "['Power (kW)', 'Current L3 / W (A)', 'Current L1 / U (A)', 'Current L2 / V (A)', 'Grid current (A)', 'Apparent power (kVA)', 'Potential power learned PC (kW)', 'Cascading potential power for performance (kW)', 'Drive train acceleration (mm/ss)', 'Current L3 / W, max (A)', 'Capacity factor']\n",
      "Top features ['Power (kW)', 'Wind speed (m/s)', 'Wind speed Sensor 2 (m/s)', 'Grid current (A)', 'Wind speed Sensor 1 (m/s)', 'Turbine Power setpoint (kW)', 'Transformer temperature (°C)', 'Cascading potential power for performance (kW)', 'Potential power learned PC (kW)', 'Cascading potential power (kW)', 'Energy Theoretical (kWh)']\n"
     ]
    }
   ],
   "source": [
    "#Select feature selection algorithm (\"pearson\", \"spearman\", \"xgboost\", \"time_lag_corr\") and number of features\n",
    "\n",
    "feature_selection_type = \"time_lag_corr\"\n",
    "num_features = 11\n",
    "\n",
    "# prediction horizon 6 = 1 hour, 36 = 6 hour, 144 = 24 hour\n",
    "time_lag = -144\n",
    "\n",
    "input_data = input_data[0]\n",
    "\n",
    "# Get the top important features considering the target variable\n",
    "top_features = dp.feature_selection_func(input_data, target_data, target_variable, feature_selection_type, num_features, time_lag)\n",
    "\n",
    "#top_features = [\"Power (kW)\",\"Transformer temperature (°C)\",\"Apparent power (kVA)\",\"Grid current (A)\",\"Current L3 / W (A)\",\"Current L1 / U (A)\",\"Current L2 / V (A)\",\"Cascading potential power for performance (kW)\",\"Potential power learned PC (kW)\", \"Cascading potential power (kW)\",\"Energy Theoretical (kWh)\"]\n",
    "top_features = [\"Power (kW)\",\"Wind speed (m/s)\",\"Wind speed Sensor 2 (m/s)\",\"Grid current (A)\",\"Wind speed Sensor 1 (m/s)\",\"Turbine Power setpoint (kW)\",\"Transformer temperature (°C)\",\"Cascading potential power for performance (kW)\",\"Potential power learned PC (kW)\", \"Cascading potential power (kW)\",\"Energy Theoretical (kWh)\"]\n",
    "print(\"Top features\", top_features)\n",
    "# Create a new DataFrame with only the top important features and the target variable\n",
    "filtered_data = input_data[top_features[:num_features]]\n",
    "\n",
    "# Save the filtered data to a new CSV file\n",
    "filtered_data.to_csv(f'./preprocessed_data_new/filtered_dataset_britain_eval_{feature_selection_type}.csv', index=False)"
   ],
   "metadata": {
    "collapsed": false
   }
  }
 ],
 "metadata": {
  "kernelspec": {
   "display_name": "Python 3",
   "language": "python",
   "name": "python3"
  },
  "language_info": {
   "codemirror_mode": {
    "name": "ipython",
    "version": 2
   },
   "file_extension": ".py",
   "mimetype": "text/x-python",
   "name": "python",
   "nbconvert_exporter": "python",
   "pygments_lexer": "ipython2",
   "version": "2.7.6"
  }
 },
 "nbformat": 4,
 "nbformat_minor": 0
}
