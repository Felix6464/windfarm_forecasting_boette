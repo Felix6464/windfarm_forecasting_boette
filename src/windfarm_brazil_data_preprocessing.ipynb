{
 "cells": [
  {
   "cell_type": "code",
   "execution_count": 1,
   "metadata": {
    "collapsed": true
   },
   "outputs": [
    {
     "name": "stdout",
     "output_type": "stream",
     "text": [
      "Input Data (Brazil Windfarm):\n",
      "<xarray.Dataset>\n",
      "Dimensions:                 (Time: 52560, Height: 6, Turbine: 20, Range: 26)\n",
      "Coordinates:\n",
      "  * Time                    (Time) datetime64[ns] 2013-08-01 ... 2014-07-31T2...\n",
      "  * Height                  (Height) float64 10.0 20.0 40.0 60.0 80.0 100.0\n",
      "  * Turbine                 (Turbine) float64 1.0 2.0 3.0 4.0 ... 18.0 19.0 20.0\n",
      "Dimensions without coordinates: Range\n",
      "Data variables: (12/48)\n",
      "    range                   (Range) float64 ...\n",
      "    wind_speed              (Height, Time) float64 ...\n",
      "    wind_direction          (Height, Time) float64 ...\n",
      "    wind_speed_std          (Height, Time) float64 ...\n",
      "    wind_direction_std      (Height, Time) float64 ...\n",
      "    wind_speed_max          (Height, Time) float64 ...\n",
      "    ...                      ...\n",
      "    lidar_wind_direction    (Range, Time) float64 ...\n",
      "    lidar_wind_speed_std    (Range, Time) float64 ...\n",
      "    lidar_ws_u              (Range, Time) float64 ...\n",
      "    lidar_ws_v              (Range, Time) float64 ...\n",
      "    lidar_ws_w              (Range, Time) float64 ...\n",
      "    lidar_availability      (Range, Time) float64 ...\n",
      "Attributes:\n",
      "    title:         UEBB Dataset\n",
      "    long_title:    Beberibe Wind Farm (UEBB) Experimental Dataset with a full...\n",
      "    comments:      Contact: yoshi@ifsc.edu.br\n",
      "    institution:   Federal Univeristy of Santa Catarina, Brazil\n",
      "    CreationDate:  July 2017\n",
      "    CreatedBy:     Pedro Santos\n",
      "    start_time:    01-Aug-2013 00:00\n",
      "    end_time:      31-Jul-2014 23:50\n",
      "Category range has wrong length 26 and is not added to dataframe\n",
      "starting interpolation\n",
      "finished interpolation\n"
     ]
    }
   ],
   "source": [
    "import pandas as pd\n",
    "import xarray as xr\n",
    "import data_preprocessing as dp\n",
    "\n",
    "# Load the input data from the NetCDF file\n",
    "input_data = xr.open_dataset('./raw_data/UEPS_v1.nc')\n",
    "\n",
    "# Print information about the input data\n",
    "print(\"Input Data (Brazil Windfarm):\\n{}\".format(input_data))\n",
    "\n",
    "# Specify the target variable\n",
    "target_variable = \"active_power_total\"\n",
    "\n",
    "# Setting the method to fill NaN values [\"interpolate_spline\", \"ffill\", \"bfill\"]\n",
    "fill_nan_method = \"interpolate_spline\"\n",
    "\n",
    "# Boolean variable for min-max normalization of the data\n",
    "min_max_normalization = False\n",
    "\n",
    "# Get the list of variables in the input data\n",
    "variable_list = dp.get_data_variables(input_data)\n",
    "\n",
    "# Convert the dictionary of variables to a dataframe\n",
    "input_data = dp.dictionary_to_dataframe(variable_list)\n",
    "\n",
    "# Separate the target variable from the input data\n",
    "target_data = input_data[target_variable]\n",
    "\n",
    "if min_max_normalization:\n",
    "    # Normalize the input data and target data between 0 and 1\n",
    "    input_data = (input_data - input_data.min()) / (input_data.max() - input_data.min())\n",
    "    target_data = (target_data - target_data.min()) / (target_data.max() - target_data.min())\n",
    "\n",
    "# Remove columns with NaN values from the input data\n",
    "input_data = dp.remove_nan_columns(input_data, target_data)\n",
    "\n",
    "# Save the unprocessed data to a CSV file\n",
    "# input_data.to_csv(\"brazil_data_unprocessed.csv\", encoding='utf-8', index=False)"
   ]
  },
  {
   "cell_type": "code",
   "execution_count": 2,
   "outputs": [
    {
     "name": "stdout",
     "output_type": "stream",
     "text": [
      "Top features based on XGBoost feature importance:\n",
      "['active_power_total', 'active_power_total_min', 'wind_speed_max', 'air_density', 'rotor_rpm_max', 'wind_speed_nacelle', 'rotor_rpm', 'tilt_Y_std', 'UST', 'lidar_wind_speed_std', 'act_position']\n"
     ]
    }
   ],
   "source": [
    "#Select feature selection algorithm (\"pearson\", \"spearman\", \"xgboost\", \"time_lag_corr\") and number of features\n",
    "\n",
    "feature_selection_type = \"xgboost\"\n",
    "num_features = 11\n",
    "\n",
    "# prediction horizon 6 = 1 hour, 36 = 6 hour, 144 = 24 hour\n",
    "time_lag = -144\n",
    "\n",
    "# Get the top important features\n",
    "top_features = dp.feature_selection_func(input_data[0], target_data, target_variable, feature_selection_type, num_features, time_lag)\n",
    "\n",
    "# Create a new DataFrame with only the top important features and the target variable\n",
    "filtered_data = input_data[0][top_features[:num_features]]\n",
    "\n",
    "# Save the filtered data to a new CSV file\n",
    "filtered_data.to_csv(f'./preprocessed_data/filtered_dataset_brazil2_{feature_selection_type}.csv', index=False)"
   ],
   "metadata": {
    "collapsed": false
   }
  }
 ],
 "metadata": {
  "kernelspec": {
   "display_name": "Python 3",
   "language": "python",
   "name": "python3"
  },
  "language_info": {
   "codemirror_mode": {
    "name": "ipython",
    "version": 2
   },
   "file_extension": ".py",
   "mimetype": "text/x-python",
   "name": "python",
   "nbconvert_exporter": "python",
   "pygments_lexer": "ipython2",
   "version": "2.7.6"
  }
 },
 "nbformat": 4,
 "nbformat_minor": 0
}
