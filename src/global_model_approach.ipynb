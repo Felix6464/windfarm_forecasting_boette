{
 "cells": [
  {
   "cell_type": "code",
   "execution_count": null,
   "metadata": {
    "collapsed": true
   },
   "outputs": [],
   "source": [
    "import pandas as pd\n",
    "\n",
    "# Load the three CSV files into separate DataFrames\n",
    "file1 = './preprocessed_data/filtered_dataset_britain_eval_own_select_2019.csv'\n",
    "file2 = './preprocessed_data/filtered_dataset_britain_eval_own_select_2020.csv'\n",
    "\n",
    "df1 = pd.read_csv(file1)\n",
    "df2 = pd.read_csv(file2)\n",
    "\n",
    "# Concatenate the DataFrames vertically (row-wise)\n",
    "concatenated_df = pd.concat([df1, df2], axis=0)\n",
    "\n",
    "# Reset the index of the concatenated DataFrame\n",
    "concatenated_df.reset_index(drop=True, inplace=True)\n",
    "\n",
    "# Specify the path where you want to save the resulting CSV file\n",
    "output_file = \"./preprocessed_data/filtered_concatenated_data_2019_2021_.csv\"\n",
    "\n",
    "# Save the concatenated DataFrame to a new CSV file\n",
    "concatenated_df.to_csv(output_file, index=False)\n",
    "\n",
    "print(f\"Concatenated data saved to {output_file}\")"
   ]
  }
 ],
 "metadata": {
  "kernelspec": {
   "display_name": "Python 3",
   "language": "python",
   "name": "python3"
  },
  "language_info": {
   "codemirror_mode": {
    "name": "ipython",
    "version": 2
   },
   "file_extension": ".py",
   "mimetype": "text/x-python",
   "name": "python",
   "nbconvert_exporter": "python",
   "pygments_lexer": "ipython2",
   "version": "2.7.6"
  }
 },
 "nbformat": 4,
 "nbformat_minor": 0
}
