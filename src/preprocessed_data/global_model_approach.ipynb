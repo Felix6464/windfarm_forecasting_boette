{
 "cells": [
  {
   "cell_type": "code",
   "execution_count": 1,
   "metadata": {
    "collapsed": true
   },
   "outputs": [],
   "source": [
    "import pandas as pd\n",
    "import utility_functions as ut\n",
    "\n",
    "\n",
    "data_2018 = pd.read_csv('filtered_dataset_britain_2018time_lag_corr.csv')\n",
    "data_2019 = pd.read_csv('filtered_dataset_britain_2019time_lag_corr.csv')\n",
    "data_2020 = pd.read_csv('filtered_dataset_britain_time_lag_corr.csv')\n",
    "\n",
    "combined_df = ut.append_dataframes(data_2018, data_2019)\n",
    "combined_df = ut.append_dataframes(combined_df, data_2020)\n",
    "\n",
    "combined_df.to_csv('combined_dataset_britain_18-20.csv', index=False)"
   ]
  },
  {
   "cell_type": "code",
   "execution_count": 1,
   "outputs": [],
   "source": [],
   "metadata": {
    "collapsed": false
   }
  }
 ],
 "metadata": {
  "kernelspec": {
   "display_name": "Python 3",
   "language": "python",
   "name": "python3"
  },
  "language_info": {
   "codemirror_mode": {
    "name": "ipython",
    "version": 2
   },
   "file_extension": ".py",
   "mimetype": "text/x-python",
   "name": "python",
   "nbconvert_exporter": "python",
   "pygments_lexer": "ipython2",
   "version": "2.7.6"
  }
 },
 "nbformat": 4,
 "nbformat_minor": 0
}